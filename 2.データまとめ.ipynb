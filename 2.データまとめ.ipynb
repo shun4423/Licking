{
 "cells": [
  {
   "cell_type": "code",
   "execution_count": 3,
   "metadata": {},
   "outputs": [],
   "source": [
    "import openpyxl\n",
    "import glob\n",
    "import os\n",
    "from openpyxl import Workbook\n",
    "\n",
    "# まとめる前のexcelファイルが保存されているパス\n",
    "folderpath_before = \"/Users/?????/Desktop/data\"\n",
    "\n",
    "# データを抽出するシート名\n",
    "sheet_name = \"Sheet\"\n",
    "\n",
    "# データを抽出するセル\n",
    "# Lのタイトル、値\n",
    "title = 'B12'\n",
    "val_star = 'C18'\n",
    "val_end = 'C65536'\n",
    "\n",
    "# Rのタイトル、値\n",
    "tiR = 'C12'\n",
    "valR = 'E18'\n",
    "valRend = 'E65536'\n",
    "\n",
    "# まとめた後のexcelファイルを保存するパス\n",
    "folderpath_after = \"/Users/??????/Desktop/matome\"\n",
    "# まとめた後のexcelファイル名\n",
    "after_name = \"まとめ\""
   ]
  },
  {
   "cell_type": "code",
   "execution_count": 4,
   "metadata": {},
   "outputs": [
    {
     "name": "stdout",
     "output_type": "stream",
     "text": [
      "['water', 'water', 'dashi 50%', 'dashi 50%']\n"
     ]
    }
   ],
   "source": [
    "wb = Workbook()\n",
    "\n",
    "files = sorted(glob.glob(folderpath_before + \"/*.xlsx\"))\n",
    "new_ws = wb.active\n",
    "\n",
    "\n",
    "# 整理後データを入れる空リストを用意\n",
    "new_ws_titles = []\n",
    "new_ws_values = []\n",
    "\n",
    "# セルの初期座標を設定\n",
    "x_one = 1\n",
    "y_one = 1\n",
    "\n",
    "y_two = 1\n",
    "\n",
    "# Lをまとめる\n",
    "for file in files:\n",
    "    filename, file_extension = os.path.splitext(file)\n",
    "    opened_file = openpyxl.load_workbook(file)\n",
    "    sheet = opened_file[sheet_name]\n",
    "    new_ws_title = sheet[title].value\n",
    "    new_ws_titles.append(new_ws_title)\n",
    "    new_ws.cell(x_one, y_one).value =  new_ws_title\n",
    "    y_one += 1\n",
    "    x_two = 2\n",
    "    for cel in sheet[val_star:val_end]:\n",
    "        for ceii in cel:\n",
    "            new_ws_value = ceii.value\n",
    "            new_ws_values.append(new_ws_value)\n",
    "            new_ws.cell(x_two, y_two).value =  new_ws_value\n",
    "            x_two += 1\n",
    "    y_two += 1\n",
    "    \n",
    "# Rをまとめる\n",
    "for file in files:\n",
    "    filename, file_extension = os.path.splitext(file)\n",
    "    opened_file = openpyxl.load_workbook(file)\n",
    "    sheet = opened_file[sheet_name]\n",
    "    new_ws_title = sheet[tiR].value\n",
    "    new_ws_titles.append(new_ws_title)\n",
    "    new_ws.cell(x_one, y_one).value =  new_ws_title\n",
    "    y_one += 1\n",
    "    x_two = 2\n",
    "    for cel in sheet[valR:valRend]:\n",
    "        for ceii in cel:\n",
    "            new_ws_value = ceii.value\n",
    "            new_ws_values.append(new_ws_value)\n",
    "            new_ws.cell(x_two, y_two).value =  new_ws_value\n",
    "            x_two += 1\n",
    "    y_two += 1\n",
    "    \n",
    "\n",
    "# データが抽出できているか確認    \n",
    "print(str(new_ws_titles))\n",
    "\n",
    "wb.save(folderpath_after + \"/\" + after_name + \".xlsx\")\n",
    "\n",
    "opened_file.close()\n",
    "wb.close()\n",
    "\n"
   ]
  },
  {
   "cell_type": "code",
   "execution_count": null,
   "metadata": {},
   "outputs": [],
   "source": []
  },
  {
   "cell_type": "code",
   "execution_count": null,
   "metadata": {},
   "outputs": [],
   "source": []
  },
  {
   "cell_type": "code",
   "execution_count": null,
   "metadata": {},
   "outputs": [],
   "source": []
  }
 ],
 "metadata": {
  "kernelspec": {
   "display_name": "Python 3",
   "language": "python",
   "name": "python3"
  },
  "language_info": {
   "codemirror_mode": {
    "name": "ipython",
    "version": 3
   },
   "file_extension": ".py",
   "mimetype": "text/x-python",
   "name": "python",
   "nbconvert_exporter": "python",
   "pygments_lexer": "ipython3",
   "version": "3.8.3"
  }
 },
 "nbformat": 4,
 "nbformat_minor": 4
}
