{
 "cells": [
  {
   "cell_type": "code",
   "execution_count": 1,
   "metadata": {},
   "outputs": [],
   "source": [
    "import numpy as np\n",
    "import pandas as pd\n",
    "import openpyxl\n",
    "from openpyxl import Workbook\n",
    "\n",
    "# データ処理をするファイルのパス\n",
    "fileload_path = \"/Users/?????/Desktop/matome/まとめ.xlsx\"\n",
    "# 処理したファイル保存するパス\n",
    "filesave_path = \"/Users/?????/Desktop/matome\"\n",
    "after_name = \"まとめex\"\n",
    "\n"
   ]
  },
  {
   "cell_type": "code",
   "execution_count": 2,
   "metadata": {},
   "outputs": [],
   "source": [
    "\n",
    "wb = Workbook()\n",
    "wb = openpyxl.load_workbook(fileload_path)\n",
    "ws = wb.worksheets[0]\n",
    "excel = Workbook()\n",
    "new_ws = excel.active\n",
    "\n",
    "\n",
    "def get_between_zeros(arr, N, return_index=False):\n",
    "    arr = np.r_[arr, np.zeros(N, dtype=int)]\n",
    "    is_nonzero = arr != 0\n",
    "    s = is_nonzero.argmax()\n",
    "    ln = np.convolve(is_nonzero[s:], np.ones(N, dtype=int), 'valid').argmin()\n",
    "\n",
    "    if return_index:\n",
    "        return arr[s:s+ln], (s, s+ln)\n",
    "    else:\n",
    "        return arr[s:s+ln]\n",
    "\n",
    "# y座標を作成\n",
    "index_two=1\n",
    "\n",
    "# 列の作成\n",
    "abc = ['A','B','C','D','E','F','G','H','I','J','K','L','M','N','O','P','Q','R','S','T','U','V','W','X','Y','Z',\n",
    "       'AA','AB','AC','AD','AE','AF','AG','AH','AI','AJ',\n",
    "       'AK','AL','AM','AN','AO','AP','AQ','AR','AS','AT','AU','AV','AW','AX','AY','AZ']\n",
    "\n",
    "\n",
    "\n",
    "for j in abc[:col_end]:\n",
    "    data= [cell.value for cell in ws[j]]\n",
    "    data.pop(0)\n",
    "    a = np.array(data)\n",
    "    j = []\n",
    "    for i in range(a.size):\n",
    "        out, [s, e] = get_between_zeros(a, 5, True)\n",
    "        j.append(out.sum())\n",
    "        a[:e] = 0\n",
    "        if a.sum() == 0:\n",
    "            break\n",
    "    for index, v in enumerate(j):\n",
    "        new_ws.cell(index+2, index_two).value = v\n",
    "    index_two += 1\n",
    "\n",
    "\n",
    "# ヘッダーの取得\n",
    "for header in abc[:col_end]:\n",
    "    new_ws[header+'1'] = ws[header+'1'].value\n",
    "\n",
    "excel.save(filesave_path + \"/\" + after_name + \".xlsx\")\n",
    "wb.close()"
   ]
  },
  {
   "cell_type": "code",
   "execution_count": null,
   "metadata": {},
   "outputs": [],
   "source": []
  }
 ],
 "metadata": {
  "kernelspec": {
   "display_name": "Python 3",
   "language": "python",
   "name": "python3"
  },
  "language_info": {
   "codemirror_mode": {
    "name": "ipython",
    "version": 3
   },
   "file_extension": ".py",
   "mimetype": "text/x-python",
   "name": "python",
   "nbconvert_exporter": "python",
   "pygments_lexer": "ipython3",
   "version": "3.8.3"
  }
 },
 "nbformat": 4,
 "nbformat_minor": 4
}
