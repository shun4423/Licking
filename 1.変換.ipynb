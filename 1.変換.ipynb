{
 "cells": [
  {
   "cell_type": "code",
   "execution_count": 20,
   "metadata": {},
   "outputs": [],
   "source": [
    "import glob\n",
    "import os\n",
    "import xlrd\n",
    "from openpyxl.workbook import Workbook\n",
    "from openpyxl.reader.excel import load_workbook, InvalidFileException\n",
    "\n",
    "#　変換前のエクセルファイルが保存されているフォルダのパス\n",
    "folderpath_before = \"/Users/?????/Desktop/data\"\n",
    "\n",
    "\n",
    "files = sorted(glob.glob(folderpath_before + \"/*.xls\"))\n",
    "\n",
    "\n",
    "def open_xls_as_xlsx(filename):\n",
    "    # first open using xlrd\n",
    "    book = xlrd.open_workbook(filename)\n",
    "    index = 0\n",
    "    nrows, ncols = 0, 0\n",
    "    while nrows * ncols == 0:\n",
    "        sheet = book.sheet_by_index(index)\n",
    "        nrows = sheet.nrows\n",
    "        ncols = sheet.ncols\n",
    "        index += 1\n",
    "\n",
    "    # prepare a xlsx sheet\n",
    "    book1 = Workbook()\n",
    "    sheet1 = book1.active\n",
    "\n",
    "    for row in range(0, nrows):\n",
    "        for col in range(0, ncols):\n",
    "            sheet1.cell(row=row + 1, column=col + 1 ).value = sheet.cell_value(row, col)\n",
    "\n",
    "    return book1.save(filename + 'change' + '.xlsx')\n",
    "\n",
    "\n",
    "for filename in files:\n",
    "    open_xls_as_xlsx(filename)\n",
    "\n",
    "    \n",
    "book1.close()"
   ]
  },
  {
   "cell_type": "code",
   "execution_count": null,
   "metadata": {},
   "outputs": [],
   "source": []
  }
 ],
 "metadata": {
  "kernelspec": {
   "display_name": "Python 3",
   "language": "python",
   "name": "python3"
  },
  "language_info": {
   "codemirror_mode": {
    "name": "ipython",
    "version": 3
   },
   "file_extension": ".py",
   "mimetype": "text/x-python",
   "name": "python",
   "nbconvert_exporter": "python",
   "pygments_lexer": "ipython3",
   "version": "3.8.3"
  }
 },
 "nbformat": 4,
 "nbformat_minor": 4
}
